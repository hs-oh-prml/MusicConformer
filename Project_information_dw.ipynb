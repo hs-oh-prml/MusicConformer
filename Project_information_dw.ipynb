{
  "nbformat": 4,
  "nbformat_minor": 0,
  "metadata": {
    "colab": {
      "name": "Project_information_dw.ipynb",
      "provenance": [],
      "toc_visible": true,
      "authorship_tag": "ABX9TyNtQYf9zQ2WE5/JRjpZmCPq",
      "include_colab_link": true
    },
    "kernelspec": {
      "name": "python3",
      "display_name": "Python 3"
    },
    "language_info": {
      "name": "python"
    }
  },
  "cells": [
    {
      "cell_type": "markdown",
      "metadata": {
        "id": "view-in-github",
        "colab_type": "text"
      },
      "source": [
        "<a href=\"https://colab.research.google.com/github/heodawoon/MusicTransformer-Pytorch/blob/master/Project_information_dw.ipynb\" target=\"_parent\"><img src=\"https://colab.research.google.com/assets/colab-badge.svg\" alt=\"Open In Colab\"/></a>"
      ]
    },
    {
      "cell_type": "markdown",
      "metadata": {
        "id": "l_OdiUimOLNB"
      },
      "source": [
        "### [XAI606] Assignment\n",
        "- Topic: Music Generation\n",
        "- Baseline Paper: Music Transformer: Generating Music with Long-Term Structure\n",
        "- Baseline Paper link: https://arxiv.org/pdf/1809.04281\n",
        "- Student ID: 2020010175\n",
        "- Student Name: Da-Woon Heo\n"
      ]
    },
    {
      "cell_type": "markdown",
      "metadata": {
        "id": "wecy6psgPPKG"
      },
      "source": [
        "### Utilized Data Information\n",
        "- Utilized data: Deriving Lakh Pianoroll Dataset (LPD)\n",
        "- (Dong et al., *AAAI*, 2018 / Raffel, *PhD Thesis*, 2016)\n",
        "- Data link: https://salu133445.github.io/lakh-pianoroll-dataset/\n",
        "\n",
        "- Randomly selected 3000 data\n",
        "- Divided it into train (2400), valid (300), and test (300) set\n",
        "\n",
        "- References\n",
        "  - Hao-Wen Dong, Wen-Yi Hsiao, Li-Chia Yang, and Yi-Hsuan Yang, “MuseGAN: Multi-track Sequential Generative Adversarial Networks for Symbolic Music Generation and Accompaniment,” in Proceedings of the 32nd AAAI Conference on Artificial Intelligence (AAAI), 2018.\n",
        "  - Colin Raffel, “Learning-Based Methods for Comparing Sequences, with Applications to Audio-to-MIDI Alignment and Matching,” PhD Thesis, 2016.\n"
      ]
    }
  ]
}