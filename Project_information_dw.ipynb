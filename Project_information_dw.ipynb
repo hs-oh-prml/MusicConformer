{
  "cells": [
    {
      "cell_type": "markdown",
      "metadata": {
        "colab_type": "text",
        "id": "view-in-github"
      },
      "source": [
        "<a href=\"https://colab.research.google.com/github/heodawoon/MusicTransformer-Pytorch/blob/master/Project_information_dw.ipynb\" target=\"_parent\"><img src=\"https://colab.research.google.com/assets/colab-badge.svg\" alt=\"Open In Colab\"/></a>"
      ]
    },
    {
      "cell_type": "markdown",
      "metadata": {
        "id": "l_OdiUimOLNB"
      },
      "source": [
        "### [XAI606] Assignment\n",
        "- Topic: Music Generation\n",
        "- Baseline Paper: Music Transformer: Generating Music with Long-Term Structure\n",
        "- Baseline Paper link: https://arxiv.org/pdf/1809.04281\n",
        "- Student ID: 2021010537\n",
        "- Student Name: Hyung-Seok Oh\n"
      ]
    }
  ],
  "metadata": {
    "colab": {
      "authorship_tag": "ABX9TyNtQYf9zQ2WE5/JRjpZmCPq",
      "include_colab_link": true,
      "name": "Project_information_dw.ipynb",
      "provenance": [],
      "toc_visible": true
    },
    "kernelspec": {
      "display_name": "Python 3",
      "name": "python3"
    },
    "language_info": {
      "name": "python"
    }
  },
  "nbformat": 4,
  "nbformat_minor": 0
}
